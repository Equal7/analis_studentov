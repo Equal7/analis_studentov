{
 "cells": [
  {
   "cell_type": "code",
   "execution_count": 1,
   "id": "durable-jesus",
   "metadata": {},
   "outputs": [],
   "source": [
    "def mean_std_func(tt):\n",
    "\n",
    "    xx = tt['Оценка студента (опрос)'].describe()\n",
    "    mean_data = xx['mean']\n",
    "    std_data = xx['std']\n",
    "    moda_data = stats.mode(tt['Оценка студента (опрос)'])\n",
    "    moda = float(moda_data.mode)\n",
    "    \n",
    "    return [mean_data, std_data, moda]"
   ]
  },
  {
   "cell_type": "code",
   "execution_count": 2,
   "id": "sought-period",
   "metadata": {},
   "outputs": [],
   "source": [
    "def generator_trunc_norm(moda, std, dataframe):\n",
    "    \n",
    "    dataframe.dropna(subset = ['Оценка студента (опрос)'])\n",
    "    flag2 = True\n",
    "\n",
    "    myclip_a = 1\n",
    "    myclip_b = 5\n",
    "    a = (myclip_a - moda) / std \n",
    "    b = (myclip_b - moda) / std\n",
    "    \n",
    "    for u in dataframe['Группа'].unique().tolist():\n",
    "        for y in dataframe['Студент (Код)'].unique().tolist():\n",
    "            x_stud = dataframe.loc[(dataframe['Студент (Код)'] == y) & (dataframe['Группа'] == u)].sort_values(by = ['Оценка студента (опрос)'], ascending = False)\n",
    "\n",
    "            if len(x_stud) > 0:\n",
    "                rand_trunc_norm = truncnorm.rvs(a, b, loc = moda, scale = std, size = len(x_stud))\n",
    "            else:\n",
    "                continue\n",
    "            list_of_rand = []\n",
    "\n",
    "            for j in rand_trunc_norm:\n",
    "                list_of_rand.append(round(j, 1))\n",
    "\n",
    "            list_of_rand.sort(reverse=True)\n",
    "            x_stud['truncnorm'] = list_of_rand\n",
    "\n",
    "            if flag2 == True:\n",
    "                flag2 = False\n",
    "                empty_x_stud = dataframe.iloc[0:0]\n",
    "                global_x_stud = pd.concat([x_stud, empty_x_stud])\n",
    "            else:\n",
    "                global_x_stud = pd.concat([x_stud, global_x_stud])\n",
    "    \n",
    "    return global_x_stud\n"
   ]
  },
  {
   "cell_type": "code",
   "execution_count": 3,
   "id": "heard-survival",
   "metadata": {},
   "outputs": [],
   "source": [
    "def Moda(df, column):\n",
    "    dict = {}\n",
    "    for x in df[column]:\n",
    "        if x not in dict:\n",
    "            dict[x] = 1\n",
    "        else:\n",
    "            dict[x] += 1\n",
    "    maxp = 0\n",
    "    moda = None\n",
    "    for i in dict:\n",
    "        if dict[i] > maxp:\n",
    "            maxp = dict[i]\n",
    "            moda = i\n",
    "    return moda\n"
   ]
  },
  {
   "cell_type": "code",
   "execution_count": 4,
   "id": "unlimited-founder",
   "metadata": {},
   "outputs": [],
   "source": [
    "def round_data_hyp_1(data, column):\n",
    "    \n",
    "    data_round = data.copy()\n",
    "    data_round['hypotez_1_round'] = round(data_round[column])\n",
    "    \n",
    "    return data_round"
   ]
  },
  {
   "cell_type": "code",
   "execution_count": 5,
   "id": "complimentary-daily",
   "metadata": {},
   "outputs": [],
   "source": [
    "#global_x_stud.loc[(global_x_stud['Студент (Код)'] == 281) & (global_x_stud['Группа'] == 9) & (global_x_stud['Семестр'] == 1)]"
   ]
  },
  {
   "cell_type": "code",
   "execution_count": 6,
   "id": "invalid-count",
   "metadata": {},
   "outputs": [],
   "source": [
    "def rating_data_trunc(data):\n",
    "    \n",
    "    rating = data.drop(columns = ['Группа','Семестр', 'Оценка студента (опрос)', 'Студент (Код)']).groupby(['Дисциплина']).mean().sort_values(by = ['truncnorm'], ascending=False)\n",
    "    \n",
    "    return rating"
   ]
  },
  {
   "cell_type": "code",
   "execution_count": 7,
   "id": "understood-royal",
   "metadata": {},
   "outputs": [],
   "source": [
    "def rating_old(data_old):\n",
    "    \n",
    "    rating_old = data_old.dropna(subset = ['Оценка студента (опрос)']).drop(columns = ['Группа','Семестр', 'Студент (Код)']).groupby(['Дисциплина']).mean().sort_values(by = ['Оценка студента (опрос)'], ascending=False)\n",
    "    \n",
    "    return rating_old"
   ]
  },
  {
   "cell_type": "code",
   "execution_count": 8,
   "id": "essential-religion",
   "metadata": {},
   "outputs": [],
   "source": [
    "def hypotez_2(data, column):\n",
    "    \n",
    "    data.dropna(subset = [column])\n",
    "    flag3 = True\n",
    "    for z in data['Группа'].unique().tolist():\n",
    "        for x in data['Студент (Код)'].unique().tolist():\n",
    "            for c in data['Семестр'].unique().tolist():\n",
    "                sem_stud = data.loc[(data['Студент (Код)'] == x) & (data['Группа'] == z) & (data['Семестр'] == c)].sort_values(by = [column], ascending = False)\n",
    "                if len(sem_stud) > 0:\n",
    "\n",
    "                    list_of_trunc = sem_stud[column].tolist()\n",
    "                    list_of_trunc.sort(reverse=True)\n",
    "                    high_numb = list_of_trunc[0]\n",
    "                    raznost = 5 - high_numb\n",
    "                    for i in range(len(list_of_trunc)):\n",
    "                        abc = list_of_trunc[i] + raznost\n",
    "                        list_of_trunc[i] = abc\n",
    "                        if list_of_trunc[i] > 5:\n",
    "                            list_of_trunc[i] = 5\n",
    "                            \n",
    "                    sem_stud['hypotez_2'] = list_of_trunc\n",
    "\n",
    "                    if flag3 == True:\n",
    "                        flag3 = False\n",
    "                        empty_x_stud = data.iloc[0:0]\n",
    "                        global_x_stud_new = pd.concat([sem_stud, empty_x_stud])\n",
    "                    else:\n",
    "                        global_x_stud_new = pd.concat([sem_stud, global_x_stud_new])\n",
    "                else:\n",
    "                    continue\n",
    "    \n",
    "    return global_x_stud_new"
   ]
  },
  {
   "cell_type": "code",
   "execution_count": 9,
   "id": "noticed-happening",
   "metadata": {},
   "outputs": [],
   "source": [
    "#data_hyp_2.loc[(data_hyp_2['Студент (Код)'] == 271) & (data_hyp_2['Группа'] == 9) & (data_hyp_2['Семестр'] == 4)]"
   ]
  },
  {
   "cell_type": "code",
   "execution_count": 10,
   "id": "healthy-afternoon",
   "metadata": {},
   "outputs": [],
   "source": [
    "def data_hyp_2_round(data_hyp_2):\n",
    "    \n",
    "    data_hyp_2_round = data_hyp_2.copy()\n",
    "    data_hyp_2_round['hypotez_2_round'] = round(data_hyp_2_round['hypotez_2'])\n",
    "    \n",
    "    return data_hyp_2_round"
   ]
  },
  {
   "cell_type": "code",
   "execution_count": 11,
   "id": "reported-server",
   "metadata": {},
   "outputs": [],
   "source": [
    "#rating_by_students_3 = global_x_stud_new.drop(columns = ['Группа','Семестр', 'Оценка студента (опрос)', 'Студент (Код)', 'truncnorm']).groupby(['Дисциплина']).mean().sort_values(by = ['truncnorm_new'], ascending=False)\n",
    "#rating_by_students_4 = global_x_stud_new_round.drop(columns = ['Группа','Семестр', 'Оценка студента (опрос)', 'Студент (Код)', 'truncnorm']).groupby(['Дисциплина']).mean().sort_values(by = ['truncnorm_new'], ascending=False)"
   ]
  },
  {
   "cell_type": "code",
   "execution_count": 12,
   "id": "ultimate-borough",
   "metadata": {},
   "outputs": [],
   "source": [
    "def graph_rating(data, column):\n",
    "    \n",
    "    rating = data.loc[:,data.columns.isin([column,'Дисциплина'])].groupby(['Дисциплина']).mean().sort_values(by = column, ascending=False)\n",
    "    rating_ = rating.reset_index()\n",
    "    labels = rating_['Дисциплина'].round(1).to_list()\n",
    "    men_means = rating_[column].round(2).to_list()\n",
    "    x = np.arange(len(labels)) \n",
    "    width = 0.4  \n",
    "    fig, ax = plt.subplots(figsize=(21,10))\n",
    "    rects1 = ax.bar(x - width/2, men_means, width, label=column)\n",
    "\n",
    "\n",
    "    ax.set(ylabel='Оценка', ylim=(3, 5.5))\n",
    "    ax.set_title(column)\n",
    "    ax.set_xticks(x)\n",
    "    ax.set_xticklabels(labels)\n",
    "    ax.set_xlabel(\"Номер дисциплины\", labelpad=20, weight='bold', size=12)\n",
    "    ax.legend()\n",
    "\n",
    "    fig.tight_layout()\n",
    "\n",
    "    return plt.show()\n"
   ]
  },
  {
   "cell_type": "code",
   "execution_count": 13,
   "id": "productive-medicare",
   "metadata": {},
   "outputs": [],
   "source": [
    "def method_lowest_squares(data, data_rating, column_rating):\n",
    "    \n",
    "    data_rating.dropna(subset = [column_rating])\n",
    "    rat_2 = data_rating.loc[:,data_rating.columns.isin([column_rating,'Дисциплина'])].groupby(['Дисциплина']).mean().sort_values(by = column_rating, ascending=False)\n",
    "    rat_2.reset_index(inplace=True)\n",
    "    flag_x = True\n",
    "    for a in data['Группа'].unique().tolist():\n",
    "        for b in data['Студент (Код)'].unique().tolist():              \n",
    "            test_data = data.loc[(data['Студент (Код)'] == b) & (data['Группа'] == a)]\n",
    "            if len(test_data) > 0:\n",
    "                test_disc = test_data['Дисциплина'].to_numpy()\n",
    "                test_trunc = test_data['truncnorm'].to_numpy()\n",
    "\n",
    "                sum_y_i = 0\n",
    "                for i in test_disc:\n",
    "\n",
    "                    sum_y_i += float(rat_2.loc[rat_2['Дисциплина'] == i][column_rating].to_numpy())\n",
    "\n",
    "                m_k = len(test_data)\n",
    "                sum_x_i_k = test_data['truncnorm'].sum()\n",
    "                x_sh_k = (1/m_k)*sum_x_i_k\n",
    "                y_sh = (1/m_k)*sum_y_i\n",
    "\n",
    "                sum_razn_x_v2 = 0\n",
    "                for j in test_trunc:\n",
    "                    sum_razn_x_v2 += (j - x_sh_k) ** 2\n",
    "\n",
    "                sum_razn_x_razn_y = 0\n",
    "                for i in test_disc: \n",
    "                    y_i = float(rat_2.loc[rat_2['Дисциплина'] == i][column_rating].to_numpy())\n",
    "\n",
    "                    for g in range(len(test_data.loc[test_data['Дисциплина'] == i]['truncnorm'])):\n",
    "\n",
    "                        x_i_k = test_data.loc[test_data['Дисциплина'] == i]['truncnorm'].to_numpy()[g]\n",
    "                        sum_razn_x_razn_y += (x_i_k - x_sh_k) * (y_i - y_sh)\n",
    "\n",
    "                C_xx_k = (1/m_k) * sum_razn_x_v2\n",
    "                C_xy_k = (1/m_k) * sum_razn_x_razn_y\n",
    "                L_k = C_xy_k / C_xx_k\n",
    "                B_k = y_sh - L_k * x_sh_k\n",
    "\n",
    "                test_data['new_method'] = L_k * test_data['truncnorm'] + B_k\n",
    "            \n",
    "                if flag_x == True:\n",
    "                    flag_x = False\n",
    "                    empty_x = test_data.iloc[0:0]\n",
    "                    global_x = pd.concat([test_data, empty_x])\n",
    "                else:\n",
    "                    global_x = pd.concat([test_data, global_x])\n",
    "            else:\n",
    "                continue    \n",
    "    \n",
    "    return global_x"
   ]
  },
  {
   "cell_type": "code",
   "execution_count": 14,
   "id": "occupied-vessel",
   "metadata": {},
   "outputs": [],
   "source": [
    "def graph_old_rating(t_empty, t_empty_sep):\n",
    "    \n",
    "    df_ = t_empty.loc[:,t_empty.columns.isin(['Оценка студента (опрос)','Дисциплина'])].groupby(['Дисциплина']).mean()\n",
    "    df_sep = t_empty_sep.loc[:,t_empty.columns.isin(['Оценка студента (опрос)','Дисциплина'])].groupby(['Дисциплина']).mean()\n",
    "    merge_df = df_.merge(df_sep, on=\"Дисциплина\")\n",
    "    merge_df['Квадрат разности'] = (merge_df['Оценка студента (опрос)_x'] - merge_df['Оценка студента (опрос)_y']) ** 2\n",
    "    izmen_data = merge_df.loc[merge_df['Квадрат разности'] != 0]\n",
    "    izmen_data.sort_values(by = ['Оценка студента (опрос)_y'], ascending = False, inplace = True)\n",
    "    izmen_data.reset_index(inplace=True)\n",
    "    izmen_data.sort_values(by = ['Оценка студента (опрос)_x'], ascending = False, inplace = True)\n",
    "    labels = izmen_data['Дисциплина'].round(1).to_list()\n",
    "    men_means = izmen_data['Оценка студента (опрос)_x'].round(2).to_list()\n",
    "\n",
    "    x = np.arange(len(labels)) \n",
    "    width = 0.2  \n",
    "\n",
    "    fig, ax = plt.subplots(figsize=(21,10))\n",
    "    rects1 = ax.bar(x - width/2, men_means, width, label='Рейтинг дисциплин после заполнения пропусков')\n",
    "\n",
    "    ax.set(ylabel='Оценка', ylim=(3, 5.5))\n",
    "    ax.set_title('Рейтинг дисциплин')\n",
    "    ax.set_xticks(x)\n",
    "    ax.set_xticklabels(labels)\n",
    "    ax.legend()\n",
    "\n",
    "\n",
    "    def autolabel(rects):\n",
    "        for rect in rects:\n",
    "            height = rect.get_height()\n",
    "            ax.annotate('{}'.format(height),\n",
    "                        xy=(rect.get_x() + rect.get_width() / 2, height),\n",
    "                        xytext=(0, 3),  # 3 points vertical offset\n",
    "                        textcoords=\"offset points\",\n",
    "                        ha='center', va='bottom')\n",
    "\n",
    "\n",
    "    autolabel(rects1)\n",
    "\n",
    "\n",
    "    fig.tight_layout()\n",
    "\n",
    "    plt.show()"
   ]
  },
  {
   "cell_type": "code",
   "execution_count": 44,
   "id": "unnecessary-equilibrium",
   "metadata": {},
   "outputs": [],
   "source": [
    "def graph_old(t_empty, column):\n",
    "    \n",
    "    rating = t_empty.loc[:,t_empty.columns.isin([column,'Дисциплина'])].groupby(['Дисциплина']).mean().sort_values(by = column, ascending=False)\n",
    "    rating_ = rating.reset_index()\n",
    "    labels = rating_['Дисциплина'].round(1).to_list()\n",
    "    men_means = rating_['Оценка студента (опрос)'].round(2).to_list()\n",
    "\n",
    "    x = np.arange(len(labels)) \n",
    "    width = 0.4  \n",
    "\n",
    "    fig, ax = plt.subplots(figsize=(21,10))\n",
    "    rects1 = ax.bar(x - width/2, men_means, width, label='Рейтинг дисциплин после заполнения пропусков')\n",
    "\n",
    "    ax.set(ylabel='Оценка', ylim=(2, 5.5))\n",
    "    ax.set_title('Рейтинг дисциплин')\n",
    "    ax.set_xticks(x)\n",
    "    ax.set_xticklabels(labels)\n",
    "    ax.legend()\n",
    "\n",
    "    fig.tight_layout()\n",
    "\n",
    "    plt.show()"
   ]
  },
  {
   "cell_type": "code",
   "execution_count": 16,
   "id": "indirect-poison",
   "metadata": {},
   "outputs": [],
   "source": [
    "#rating_ = rating_by_students_1.sort_values(by = ['Оценка студента (опрос)'])\n",
    "#rating_"
   ]
  },
  {
   "cell_type": "code",
   "execution_count": 17,
   "id": "geological-demand",
   "metadata": {},
   "outputs": [],
   "source": [
    "#graph_rating(rating_by_students_1.sort_values(by = []))"
   ]
  },
  {
   "cell_type": "code",
   "execution_count": 18,
   "id": "active-fishing",
   "metadata": {},
   "outputs": [],
   "source": [
    "#rating_by_students_1.plot(kind='barh')"
   ]
  },
  {
   "cell_type": "code",
   "execution_count": 19,
   "id": "pharmaceutical-usage",
   "metadata": {},
   "outputs": [
    {
     "data": {
      "text/plain": [
       "'ax = rating_.plot(kind=\\'barh\\', figsize=(16, 50), zorder=2, width=0.85)\\n\\n# Despine\\nax.spines[\\'right\\'].set_visible(False)\\nax.spines[\\'top\\'].set_visible(False)\\nax.spines[\\'left\\'].set_visible(False)\\nax.spines[\\'bottom\\'].set_visible(False)\\n\\n# Switch off ticks\\nax.tick_params(axis=\"both\", which=\"both\", bottom=\"off\", top=\"off\", labelbottom=\"on\", left=\"off\", right=\"off\", labelleft=\"on\")\\n\\n# Draw vertical axis lines\\nvals = ax.get_xticks()\\nfor tick in vals:\\n    ax.axvline(x=tick, linestyle=\\'dashed\\', alpha=0.4, zorder=1)\\n\\n# Set x-axis label\\nax.set_xlabel(\"Оценка\", labelpad=20, weight=\\'bold\\', size=12)\\n\\n# Set y-axis label\\nax.set_ylabel(\"Номер дисциплины\", labelpad=20, weight=\\'bold\\', size=12)\\n'"
      ]
     },
     "execution_count": 19,
     "metadata": {},
     "output_type": "execute_result"
    }
   ],
   "source": [
    "\"\"\"ax = rating_.plot(kind='barh', figsize=(16, 50), zorder=2, width=0.85)\n",
    "\n",
    "# Despine\n",
    "ax.spines['right'].set_visible(False)\n",
    "ax.spines['top'].set_visible(False)\n",
    "ax.spines['left'].set_visible(False)\n",
    "ax.spines['bottom'].set_visible(False)\n",
    "\n",
    "# Switch off ticks\n",
    "ax.tick_params(axis=\"both\", which=\"both\", bottom=\"off\", top=\"off\", labelbottom=\"on\", left=\"off\", right=\"off\", labelleft=\"on\")\n",
    "\n",
    "# Draw vertical axis lines\n",
    "vals = ax.get_xticks()\n",
    "for tick in vals:\n",
    "    ax.axvline(x=tick, linestyle='dashed', alpha=0.4, zorder=1)\n",
    "\n",
    "# Set x-axis label\n",
    "ax.set_xlabel(\"Оценка\", labelpad=20, weight='bold', size=12)\n",
    "\n",
    "# Set y-axis label\n",
    "ax.set_ylabel(\"Номер дисциплины\", labelpad=20, weight='bold', size=12)\n",
    "\"\"\"\n"
   ]
  },
  {
   "cell_type": "code",
   "execution_count": 20,
   "id": "italic-delicious",
   "metadata": {},
   "outputs": [],
   "source": [
    "#larg_20 = rating_.nlargest(25, columns = ['Оценка студента (опрос)'])"
   ]
  },
  {
   "cell_type": "code",
   "execution_count": 21,
   "id": "sustained-ontario",
   "metadata": {},
   "outputs": [],
   "source": [
    "#graph_rating(larg_20)"
   ]
  },
  {
   "cell_type": "code",
   "execution_count": 22,
   "id": "alpine-solution",
   "metadata": {},
   "outputs": [],
   "source": [
    "#global_x_stud_new_round"
   ]
  },
  {
   "cell_type": "code",
   "execution_count": 23,
   "id": "upper-typing",
   "metadata": {},
   "outputs": [],
   "source": [
    "#global_x_stud_new_round.loc[(global_x_stud_new_round['Студент (Код)'] == 3) & (global_x_stud_new_round['Группа'] == 1) & (global_x_stud_new_round['Семестр'] == 7)]"
   ]
  },
  {
   "cell_type": "code",
   "execution_count": 24,
   "id": "weighted-debate",
   "metadata": {},
   "outputs": [],
   "source": [
    "#rat_2 = rating_by_students_2.reset_index()\n",
    "#rat_2['Ранг дисциплины'] = rat_2['truncnorm'].rank(method='dense', ascending=False)"
   ]
  },
  {
   "cell_type": "code",
   "execution_count": 25,
   "id": "speaking-yellow",
   "metadata": {},
   "outputs": [],
   "source": [
    "#rat_2"
   ]
  },
  {
   "cell_type": "code",
   "execution_count": 26,
   "id": "happy-field",
   "metadata": {},
   "outputs": [],
   "source": [
    "#rating_by_students_2.loc[(rating_by_students_2['Студент (Код)'] == b) & (rating_by_students_2['Группа'] == a) & (rating_by_students_2['Семестр'] == c)]"
   ]
  },
  {
   "cell_type": "code",
   "execution_count": 27,
   "id": "human-major",
   "metadata": {},
   "outputs": [],
   "source": [
    "#rating_by_students_4"
   ]
  },
  {
   "cell_type": "code",
   "execution_count": 28,
   "id": "collected-symbol",
   "metadata": {},
   "outputs": [],
   "source": [
    "#rating_by_students_2"
   ]
  },
  {
   "cell_type": "code",
   "execution_count": 29,
   "id": "appreciated-allergy",
   "metadata": {},
   "outputs": [],
   "source": [
    "#larg_20_2 = rating_by_students_2.sort_values(by = ['truncnorm']).nlargest(25, columns = ['truncnorm'])\n",
    "#larg_20_4 = rating_by_students_4.sort_values(by = ['truncnorm_new']).nlargest(25, columns = ['truncnorm_new'])"
   ]
  },
  {
   "cell_type": "code",
   "execution_count": 30,
   "id": "brave-rochester",
   "metadata": {},
   "outputs": [],
   "source": [
    "#graph_rating(larg_20_2)"
   ]
  },
  {
   "cell_type": "code",
   "execution_count": 31,
   "id": "loaded-newark",
   "metadata": {},
   "outputs": [],
   "source": [
    "#graph_rating(larg_20_4)"
   ]
  },
  {
   "cell_type": "code",
   "execution_count": 32,
   "id": "honey-prospect",
   "metadata": {},
   "outputs": [],
   "source": [
    "#small_20_4 = rating_by_students_4.sort_values(by = ['truncnorm_new']).nsmallest(30, columns = ['truncnorm_new'])\n",
    "#graph_rating(small_20_4)"
   ]
  },
  {
   "cell_type": "code",
   "execution_count": 33,
   "id": "peaceful-production",
   "metadata": {},
   "outputs": [],
   "source": [
    "#small_20_2 = rating_by_students_2.sort_values(by = ['truncnorm']).nsmallest(30, columns = ['truncnorm'])\n",
    "#graph_rating(small_20_2)"
   ]
  },
  {
   "cell_type": "code",
   "execution_count": 34,
   "id": "detected-registration",
   "metadata": {},
   "outputs": [],
   "source": [
    "#rating_by_students_2"
   ]
  },
  {
   "cell_type": "code",
   "execution_count": 35,
   "id": "suspended-parliament",
   "metadata": {},
   "outputs": [],
   "source": [
    "#small_20_1 = rating_by_students_1.sort_values(by = ['Оценка студента (опрос)']).nsmallest(30, columns = ['Оценка студента (опрос)'])\n",
    "#graph_rating(small_20_1)"
   ]
  },
  {
   "cell_type": "code",
   "execution_count": 36,
   "id": "looking-receptor",
   "metadata": {},
   "outputs": [],
   "source": [
    "#larg_20_1 = rating_by_students_1.sort_values(by = ['Оценка студента (опрос)']).nlargest(30, columns = ['Оценка студента (опрос)'])\n",
    "#graph_rating(larg_20_1)"
   ]
  },
  {
   "cell_type": "code",
   "execution_count": 37,
   "id": "stunning-letters",
   "metadata": {},
   "outputs": [],
   "source": [
    "#rat_2 = rating_by_students_2.reset_index()\n",
    "#rat_2['Ранг дисциплины'] = rat_2['truncnorm'].rank(method='dense', ascending=False)"
   ]
  },
  {
   "cell_type": "code",
   "execution_count": 38,
   "id": "future-projector",
   "metadata": {},
   "outputs": [],
   "source": [
    "#np.isnan(test_data.loc[test_data['Дисциплина'] == 9]['truncnorm'].to_numpy()) == False"
   ]
  },
  {
   "cell_type": "code",
   "execution_count": 39,
   "id": "hispanic-antarctica",
   "metadata": {},
   "outputs": [],
   "source": [
    "#tt = global_x_stud.loc[(global_x_stud['Студент (Код)'] == 271) & (global_x_stud['Группа'] == 9)]\n",
    "#tt"
   ]
  },
  {
   "cell_type": "code",
   "execution_count": 40,
   "id": "yellow-mobility",
   "metadata": {},
   "outputs": [],
   "source": [
    "#x = rat_2.loc[rat_2['Дисциплина'] == 108]\n",
    "#x"
   ]
  },
  {
   "cell_type": "code",
   "execution_count": 41,
   "id": "fiscal-puppy",
   "metadata": {},
   "outputs": [],
   "source": [
    "#tt['truncnorm'].to_numpy()"
   ]
  },
  {
   "cell_type": "code",
   "execution_count": 42,
   "id": "dutch-conservation",
   "metadata": {},
   "outputs": [],
   "source": [
    "#rat_2"
   ]
  },
  {
   "cell_type": "code",
   "execution_count": null,
   "id": "cutting-kitchen",
   "metadata": {},
   "outputs": [],
   "source": []
  }
 ],
 "metadata": {
  "kernelspec": {
   "display_name": "Python 3",
   "language": "python",
   "name": "python3"
  },
  "language_info": {
   "codemirror_mode": {
    "name": "ipython",
    "version": 3
   },
   "file_extension": ".py",
   "mimetype": "text/x-python",
   "name": "python",
   "nbconvert_exporter": "python",
   "pygments_lexer": "ipython3",
   "version": "3.8.3"
  }
 },
 "nbformat": 4,
 "nbformat_minor": 5
}
