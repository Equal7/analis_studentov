{
 "cells": [
  {
   "cell_type": "code",
   "execution_count": null,
   "metadata": {},
   "outputs": [],
   "source": [
    "import import_ipynb\n",
    "import rang\n",
    "import pandas as pd\n",
    "import numpy as np"
   ]
  },
  {
   "cell_type": "code",
   "execution_count": null,
   "metadata": {},
   "outputs": [],
   "source": [
    "# ответы с пропусками\n",
    "df = pd.read_excel(io='data.xlsx',\n",
    "              engine='openpyxl',\n",
    "              usecols='A:J',\n",
    "              nrows=5)\n",
    "print('\\n данные с пропусками\\n',df)\n",
    "print(df)\n",
    "Matrix=rang.getMatrix(df)\n",
    "rez=rang.method_rows_sum_extension(Matrix)\n",
    "print('\\n строчные суммы по Чеботарёву\\n',rez['x'])\n",
    "print('\\n ошибка = ',rez['err'])"
   ]
  },
  {
   "cell_type": "code",
   "execution_count": null,
   "metadata": {},
   "outputs": [],
   "source": [
    "# текущий рейтинг (среднеариф )\n",
    "x_=np.array(df.mean(axis = 1, skipna = True))\n",
    "print('\\n текущий рейтинг \\n ',x_)\n",
    "\n",
    "# Востановление пропусков\n",
    "dfrez=rang.method_rang_complit(df,x_,Matrix)\n",
    "print('\\n данные с востановленными пропусками\\n',dfrez)\n",
    "print('\\n ошибка = ',rez['err'])"
   ]
  },
  {
   "cell_type": "code",
   "execution_count": null,
   "metadata": {},
   "outputs": [],
   "source": [
    "              "
   ]
  }
 ],
 "metadata": {
  "kernelspec": {
   "display_name": "Python 3",
   "language": "python",
   "name": "python3"
  },
  "language_info": {
   "codemirror_mode": {
    "name": "ipython",
    "version": 3
   },
   "file_extension": ".py",
   "mimetype": "text/x-python",
   "name": "python",
   "nbconvert_exporter": "python",
   "pygments_lexer": "ipython3",
   "version": "3.8.3"
  }
 },
 "nbformat": 4,
 "nbformat_minor": 4
}
